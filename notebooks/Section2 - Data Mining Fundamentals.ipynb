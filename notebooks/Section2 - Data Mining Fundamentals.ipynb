{
 "cells": [
  {
   "cell_type": "markdown",
   "source": [
    "1) Section 2.1 Cluster analysis"
   ],
   "metadata": {
    "collapsed": false
   }
  },
  {
   "cell_type": "code",
   "execution_count": 23,
   "outputs": [],
   "source": [
    "import pandas as pd \n",
    "import seaborn as sns \n",
    "import numpy as np \n",
    "import matplotlib.pyplot as plt  \n",
    "from sklearn.cluster import KMeans\n",
    "%matplotlib  inline"
   ],
   "metadata": {
    "collapsed": false,
    "pycharm": {
     "name": "#%%\n"
    }
   }
  },
  {
   "cell_type": "code",
   "execution_count": 24,
   "outputs": [],
   "source": [
    "df = pd.read_csv('../data/single_family_home_values.csv') # zillow"
   ],
   "metadata": {
    "collapsed": false,
    "pycharm": {
     "name": "#%%\n"
    }
   }
  },
  {
   "cell_type": "code",
   "execution_count": 25,
   "outputs": [
    {
     "data": {
      "text/plain": "          id            address    city state  zipcode  latitude   longitude  \\\n0   39525749    8171 E 84th Ave  Denver    CO    80022  39.84916 -104.893468   \n1  184578398  10556 Wheeling St  Denver    CO    80022  39.88802 -104.830930   \n\n   bedrooms  bathrooms  rooms  squareFootage  lotSize  yearBuilt lastSaleDate  \\\n0         3        2.0      6           1378     9968     2003.0   2009-12-17   \n1         2        2.0      6           1653     6970     2004.0   2004-09-23   \n\n   lastSaleAmount priorSaleDate  priorSaleAmount  estimated_value  \n0           75000    2004-05-13         165700.0           239753  \n1          216935           NaN              NaN           343963  ",
      "text/html": "<div>\n<style scoped>\n    .dataframe tbody tr th:only-of-type {\n        vertical-align: middle;\n    }\n\n    .dataframe tbody tr th {\n        vertical-align: top;\n    }\n\n    .dataframe thead th {\n        text-align: right;\n    }\n</style>\n<table border=\"1\" class=\"dataframe\">\n  <thead>\n    <tr style=\"text-align: right;\">\n      <th></th>\n      <th>id</th>\n      <th>address</th>\n      <th>city</th>\n      <th>state</th>\n      <th>zipcode</th>\n      <th>latitude</th>\n      <th>longitude</th>\n      <th>bedrooms</th>\n      <th>bathrooms</th>\n      <th>rooms</th>\n      <th>squareFootage</th>\n      <th>lotSize</th>\n      <th>yearBuilt</th>\n      <th>lastSaleDate</th>\n      <th>lastSaleAmount</th>\n      <th>priorSaleDate</th>\n      <th>priorSaleAmount</th>\n      <th>estimated_value</th>\n    </tr>\n  </thead>\n  <tbody>\n    <tr>\n      <th>0</th>\n      <td>39525749</td>\n      <td>8171 E 84th Ave</td>\n      <td>Denver</td>\n      <td>CO</td>\n      <td>80022</td>\n      <td>39.84916</td>\n      <td>-104.893468</td>\n      <td>3</td>\n      <td>2.0</td>\n      <td>6</td>\n      <td>1378</td>\n      <td>9968</td>\n      <td>2003.0</td>\n      <td>2009-12-17</td>\n      <td>75000</td>\n      <td>2004-05-13</td>\n      <td>165700.0</td>\n      <td>239753</td>\n    </tr>\n    <tr>\n      <th>1</th>\n      <td>184578398</td>\n      <td>10556 Wheeling St</td>\n      <td>Denver</td>\n      <td>CO</td>\n      <td>80022</td>\n      <td>39.88802</td>\n      <td>-104.830930</td>\n      <td>2</td>\n      <td>2.0</td>\n      <td>6</td>\n      <td>1653</td>\n      <td>6970</td>\n      <td>2004.0</td>\n      <td>2004-09-23</td>\n      <td>216935</td>\n      <td>NaN</td>\n      <td>NaN</td>\n      <td>343963</td>\n    </tr>\n  </tbody>\n</table>\n</div>"
     },
     "execution_count": 25,
     "metadata": {},
     "output_type": "execute_result"
    }
   ],
   "source": [
    "df.head(2)"
   ],
   "metadata": {
    "collapsed": false,
    "pycharm": {
     "name": "#%%\n"
    }
   }
  },
  {
   "cell_type": "code",
   "execution_count": 26,
   "outputs": [
    {
     "name": "stdout",
     "output_type": "stream",
     "text": [
      "<class 'pandas.core.frame.DataFrame'>\n",
      "RangeIndex: 15000 entries, 0 to 14999\n",
      "Data columns (total 18 columns):\n",
      " #   Column           Non-Null Count  Dtype  \n",
      "---  ------           --------------  -----  \n",
      " 0   id               15000 non-null  int64  \n",
      " 1   address          15000 non-null  object \n",
      " 2   city             15000 non-null  object \n",
      " 3   state            15000 non-null  object \n",
      " 4   zipcode          15000 non-null  int64  \n",
      " 5   latitude         14985 non-null  float64\n",
      " 6   longitude        14985 non-null  float64\n",
      " 7   bedrooms         15000 non-null  int64  \n",
      " 8   bathrooms        15000 non-null  float64\n",
      " 9   rooms            15000 non-null  int64  \n",
      " 10  squareFootage    15000 non-null  int64  \n",
      " 11  lotSize          15000 non-null  int64  \n",
      " 12  yearBuilt        14999 non-null  float64\n",
      " 13  lastSaleDate     15000 non-null  object \n",
      " 14  lastSaleAmount   15000 non-null  int64  \n",
      " 15  priorSaleDate    11173 non-null  object \n",
      " 16  priorSaleAmount  11287 non-null  float64\n",
      " 17  estimated_value  15000 non-null  int64  \n",
      "dtypes: float64(5), int64(8), object(5)\n",
      "memory usage: 2.1+ MB\n"
     ]
    }
   ],
   "source": [
    "df.info()"
   ],
   "metadata": {
    "collapsed": false,
    "pycharm": {
     "name": "#%%\n"
    }
   }
  },
  {
   "cell_type": "code",
   "execution_count": 27,
   "outputs": [
    {
     "data": {
      "text/plain": "                 id       zipcode      latitude     longitude      bedrooms  \\\ncount  1.500000e+04  15000.000000  14985.000000  14985.000000  15000.000000   \nmean   5.176229e+07  80204.919467     39.740538   -104.964076      2.708400   \nstd    6.190876e+07      9.715263      0.023555      0.039788      0.897231   \nmin    1.433670e+05  80022.000000     39.614531   -105.108440      0.000000   \n25%    1.004802e+07  80205.000000     39.727634   -104.978737      2.000000   \n50%    2.563241e+07  80206.000000     39.748048   -104.957689      3.000000   \n75%    5.114222e+07  80207.000000     39.758214   -104.937522      3.000000   \nmax    3.209481e+08  80209.000000     39.888020   -104.830930     15.000000   \n\n          bathrooms         rooms  squareFootage       lotSize     yearBuilt  \\\ncount  15000.000000  15000.000000   15000.000000   15000.00000  14999.000000   \nmean       2.195067      6.164133    1514.504400    5820.76620   1929.517168   \nstd        1.166279      1.958601     830.635999    3013.27947     29.937051   \nmin        0.000000      0.000000     350.000000     278.00000   1874.000000   \n25%        1.000000      5.000000     986.000000    4620.00000   1907.000000   \n50%        2.000000      6.000000    1267.500000    5950.00000   1925.000000   \n75%        3.000000      7.000000    1766.250000    6270.00000   1949.000000   \nmax       12.000000     39.000000   10907.000000  122839.00000   2016.000000   \n\n       lastSaleAmount  priorSaleAmount  estimated_value  \ncount    1.500000e+04     1.128700e+04     1.500000e+04  \nmean     4.053563e+05     2.594350e+05     6.371625e+05  \nstd      7.756998e+05     3.379387e+05     5.044185e+05  \nmin      2.590000e+02     0.000000e+00     1.477670e+05  \n25%      1.940000e+05     1.100000e+05     3.984348e+05  \n50%      3.200000e+05     2.100000e+05     5.183575e+05  \n75%      4.632000e+05     3.302400e+05     6.879692e+05  \nmax      4.560000e+07     1.600000e+07     1.014531e+07  ",
      "text/html": "<div>\n<style scoped>\n    .dataframe tbody tr th:only-of-type {\n        vertical-align: middle;\n    }\n\n    .dataframe tbody tr th {\n        vertical-align: top;\n    }\n\n    .dataframe thead th {\n        text-align: right;\n    }\n</style>\n<table border=\"1\" class=\"dataframe\">\n  <thead>\n    <tr style=\"text-align: right;\">\n      <th></th>\n      <th>id</th>\n      <th>zipcode</th>\n      <th>latitude</th>\n      <th>longitude</th>\n      <th>bedrooms</th>\n      <th>bathrooms</th>\n      <th>rooms</th>\n      <th>squareFootage</th>\n      <th>lotSize</th>\n      <th>yearBuilt</th>\n      <th>lastSaleAmount</th>\n      <th>priorSaleAmount</th>\n      <th>estimated_value</th>\n    </tr>\n  </thead>\n  <tbody>\n    <tr>\n      <th>count</th>\n      <td>1.500000e+04</td>\n      <td>15000.000000</td>\n      <td>14985.000000</td>\n      <td>14985.000000</td>\n      <td>15000.000000</td>\n      <td>15000.000000</td>\n      <td>15000.000000</td>\n      <td>15000.000000</td>\n      <td>15000.00000</td>\n      <td>14999.000000</td>\n      <td>1.500000e+04</td>\n      <td>1.128700e+04</td>\n      <td>1.500000e+04</td>\n    </tr>\n    <tr>\n      <th>mean</th>\n      <td>5.176229e+07</td>\n      <td>80204.919467</td>\n      <td>39.740538</td>\n      <td>-104.964076</td>\n      <td>2.708400</td>\n      <td>2.195067</td>\n      <td>6.164133</td>\n      <td>1514.504400</td>\n      <td>5820.76620</td>\n      <td>1929.517168</td>\n      <td>4.053563e+05</td>\n      <td>2.594350e+05</td>\n      <td>6.371625e+05</td>\n    </tr>\n    <tr>\n      <th>std</th>\n      <td>6.190876e+07</td>\n      <td>9.715263</td>\n      <td>0.023555</td>\n      <td>0.039788</td>\n      <td>0.897231</td>\n      <td>1.166279</td>\n      <td>1.958601</td>\n      <td>830.635999</td>\n      <td>3013.27947</td>\n      <td>29.937051</td>\n      <td>7.756998e+05</td>\n      <td>3.379387e+05</td>\n      <td>5.044185e+05</td>\n    </tr>\n    <tr>\n      <th>min</th>\n      <td>1.433670e+05</td>\n      <td>80022.000000</td>\n      <td>39.614531</td>\n      <td>-105.108440</td>\n      <td>0.000000</td>\n      <td>0.000000</td>\n      <td>0.000000</td>\n      <td>350.000000</td>\n      <td>278.00000</td>\n      <td>1874.000000</td>\n      <td>2.590000e+02</td>\n      <td>0.000000e+00</td>\n      <td>1.477670e+05</td>\n    </tr>\n    <tr>\n      <th>25%</th>\n      <td>1.004802e+07</td>\n      <td>80205.000000</td>\n      <td>39.727634</td>\n      <td>-104.978737</td>\n      <td>2.000000</td>\n      <td>1.000000</td>\n      <td>5.000000</td>\n      <td>986.000000</td>\n      <td>4620.00000</td>\n      <td>1907.000000</td>\n      <td>1.940000e+05</td>\n      <td>1.100000e+05</td>\n      <td>3.984348e+05</td>\n    </tr>\n    <tr>\n      <th>50%</th>\n      <td>2.563241e+07</td>\n      <td>80206.000000</td>\n      <td>39.748048</td>\n      <td>-104.957689</td>\n      <td>3.000000</td>\n      <td>2.000000</td>\n      <td>6.000000</td>\n      <td>1267.500000</td>\n      <td>5950.00000</td>\n      <td>1925.000000</td>\n      <td>3.200000e+05</td>\n      <td>2.100000e+05</td>\n      <td>5.183575e+05</td>\n    </tr>\n    <tr>\n      <th>75%</th>\n      <td>5.114222e+07</td>\n      <td>80207.000000</td>\n      <td>39.758214</td>\n      <td>-104.937522</td>\n      <td>3.000000</td>\n      <td>3.000000</td>\n      <td>7.000000</td>\n      <td>1766.250000</td>\n      <td>6270.00000</td>\n      <td>1949.000000</td>\n      <td>4.632000e+05</td>\n      <td>3.302400e+05</td>\n      <td>6.879692e+05</td>\n    </tr>\n    <tr>\n      <th>max</th>\n      <td>3.209481e+08</td>\n      <td>80209.000000</td>\n      <td>39.888020</td>\n      <td>-104.830930</td>\n      <td>15.000000</td>\n      <td>12.000000</td>\n      <td>39.000000</td>\n      <td>10907.000000</td>\n      <td>122839.00000</td>\n      <td>2016.000000</td>\n      <td>4.560000e+07</td>\n      <td>1.600000e+07</td>\n      <td>1.014531e+07</td>\n    </tr>\n  </tbody>\n</table>\n</div>"
     },
     "execution_count": 27,
     "metadata": {},
     "output_type": "execute_result"
    }
   ],
   "source": [
    "df.describe()"
   ],
   "metadata": {
    "collapsed": false,
    "pycharm": {
     "name": "#%%\n"
    }
   }
  },
  {
   "cell_type": "code",
   "execution_count": 28,
   "outputs": [],
   "source": [
    "X = df.drop('estimated_value', axis=1)"
   ],
   "metadata": {
    "collapsed": false,
    "pycharm": {
     "name": "#%%\n"
    }
   }
  },
  {
   "cell_type": "code",
   "execution_count": 29,
   "outputs": [],
   "source": [
    "X = X[[\"bedrooms\", \"bathrooms\", \"rooms\", \"squareFootage\", \"lotSize\", \"yearBuilt\", \"priorSaleAmount\"]]"
   ],
   "metadata": {
    "collapsed": false,
    "pycharm": {
     "name": "#%%\n"
    }
   }
  },
  {
   "cell_type": "code",
   "execution_count": 30,
   "outputs": [],
   "source": [
    "X.fillna(0, inplace=True)"
   ],
   "metadata": {
    "collapsed": false,
    "pycharm": {
     "name": "#%%\n"
    }
   }
  },
  {
   "cell_type": "code",
   "execution_count": 31,
   "outputs": [],
   "source": [
    "kmeans = KMeans(n_clusters=5, random_state=0).fit(X)"
   ],
   "metadata": {
    "collapsed": false,
    "pycharm": {
     "name": "#%%\n"
    }
   }
  },
  {
   "cell_type": "code",
   "execution_count": 32,
   "outputs": [
    {
     "data": {
      "text/plain": "KMeans(n_clusters=5, random_state=0)"
     },
     "execution_count": 32,
     "metadata": {},
     "output_type": "execute_result"
    }
   ],
   "source": [
    "kmeans"
   ],
   "metadata": {
    "collapsed": false,
    "pycharm": {
     "name": "#%%\n"
    }
   }
  },
  {
   "cell_type": "code",
   "execution_count": 33,
   "outputs": [
    {
     "data": {
      "text/plain": "(15000, (15000, 7))"
     },
     "execution_count": 33,
     "metadata": {},
     "output_type": "execute_result"
    }
   ],
   "source": [
    "len(kmeans.labels_), X.shape"
   ],
   "metadata": {
    "collapsed": false,
    "pycharm": {
     "name": "#%%\n"
    }
   }
  },
  {
   "cell_type": "code",
   "execution_count": 34,
   "outputs": [
    {
     "data": {
      "text/plain": "array([3.31226296e+00, 3.83944374e+00, 8.42730721e+00, 2.69720607e+03,\n       6.97174968e+03, 1.94200506e+03, 7.43586930e+05])"
     },
     "execution_count": 34,
     "metadata": {},
     "output_type": "execute_result"
    }
   ],
   "source": [
    "kmeans.cluster_centers_[0]"
   ],
   "metadata": {
    "collapsed": false,
    "pycharm": {
     "name": "#%%\n"
    }
   }
  }
 ],
 "metadata": {
  "kernelspec": {
   "name": "datamining",
   "language": "python",
   "display_name": "Python DataMining"
  },
  "language_info": {
   "codemirror_mode": {
    "name": "ipython",
    "version": 3
   },
   "file_extension": ".py",
   "mimetype": "text/x-python",
   "name": "python",
   "nbconvert_exporter": "python",
   "pygments_lexer": "ipython3",
   "version": "3.8.8"
  }
 },
 "nbformat": 4,
 "nbformat_minor": 1
}