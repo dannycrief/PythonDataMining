{
 "cells": [
  {
   "cell_type": "code",
   "execution_count": 1,
   "metadata": {},
   "outputs": [],
   "source": [
    "import pyspark as ps\n",
    "import numpy as np\n",
    "import pandas as pd\n",
    "from pyspark import SQLContext\n",
    "from pyspark.ml import Pipeline\n",
    "import pyspark.sql.functions as func\n",
    "from pyspark.ml.feature import RegexTokenizer, HashingTF, Binarizer\n",
    "from pyspark.ml.classification import LogisticRegression\n",
    "from pyspark.ml.feature import MinMaxScaler, VectorAssembler\n",
    "from pyspark.ml.regression import LinearRegression\n",
    "import matplotlib.pyplot as mpl\n",
    "import seaborn as sns\n",
    "\n",
    "\n",
    "%matplotlib inline"
   ]
  },
  {
   "cell_type": "code",
   "execution_count": 2,
   "metadata": {},
   "outputs": [],
   "source": [
    "spark = ps.sql.SparkSession.builder\\\n",
    "    .master('local[4]')\\\n",
    "    .appName('Project1')\\\n",
    "    .getOrCreate()\n",
    "\n",
    "sc = spark.sparkContext"
   ]
  },
  {
   "cell_type": "code",
   "execution_count": 3,
   "metadata": {
    "pycharm": {
     "name": "#%%\n"
    }
   },
   "outputs": [],
   "source": [
    "sqlContext = SQLContext(sc)"
   ]
  },
  {
   "cell_type": "code",
   "execution_count": 4,
   "metadata": {
    "pycharm": {
     "name": "#%%\n"
    }
   },
   "outputs": [],
   "source": [
    "df = sqlContext.read.csv('../../data/fifa.csv',\n",
    "                         header=True,\n",
    "                         quote='\"',\n",
    "                         sep=',',\n",
    "                         inferSchema=True)\n",
    "spark.conf.set(\"spark.sql.execution.arrow.enabled\", \"false\")"
   ]
  },
  {
   "cell_type": "code",
   "execution_count": 5,
   "metadata": {},
   "outputs": [],
   "source": [
    "filtered_df = df[[\n",
    "    'ID',\n",
    "    'Name',\n",
    "    'Age',\n",
    "    'Nationality',\n",
    "    'Overall',\n",
    "    'Potential',\n",
    "    'Club',\n",
    "    'Value',\n",
    "    'International Reputation',\n",
    "    'Release Clause'\n",
    "]]"
   ]
  },
  {
   "cell_type": "code",
   "execution_count": 6,
   "metadata": {
    "pycharm": {
     "name": "#%%\n"
    }
   },
   "outputs": [
    {
     "name": "stdout",
     "output_type": "stream",
     "text": [
      "+------+-----------------+---+-----------+-------+---------+-------------------+-------+------------------------+--------------+\n",
      "|    ID|             Name|Age|Nationality|Overall|Potential|               Club|  Value|International Reputation|Release Clause|\n",
      "+------+-----------------+---+-----------+-------+---------+-------------------+-------+------------------------+--------------+\n",
      "|158023|         L. Messi| 31|  Argentina|     94|       94|       FC Barcelona|€110.5M|                       5|       €226.5M|\n",
      "| 20801|Cristiano Ronaldo| 33|   Portugal|     94|       94|           Juventus|   €77M|                       5|       €127.1M|\n",
      "|190871|        Neymar Jr| 26|     Brazil|     92|       93|Paris Saint-Germain|€118.5M|                       5|       €228.1M|\n",
      "|193080|           De Gea| 27|      Spain|     91|       93|  Manchester United|   €72M|                       4|       €138.6M|\n",
      "|192985|     K. De Bruyne| 27|    Belgium|     91|       92|    Manchester City|  €102M|                       4|       €196.4M|\n",
      "+------+-----------------+---+-----------+-------+---------+-------------------+-------+------------------------+--------------+\n",
      "only showing top 5 rows\n",
      "\n"
     ]
    }
   ],
   "source": [
    "filtered_df.show(5)"
   ]
  },
  {
   "cell_type": "code",
   "execution_count": 7,
   "metadata": {},
   "outputs": [],
   "source": [
    "ordered_df = filtered_df.orderBy(\"Overall\", ascending=False).toPandas()"
   ]
  },
  {
   "cell_type": "code",
   "execution_count": 8,
   "metadata": {},
   "outputs": [
    {
     "name": "stdout",
     "output_type": "stream",
     "text": [
      "Min: 46\n",
      "Max: 94\n",
      "Lower quartile: 62.0\n",
      "Median: 66.0\n",
      "Upper quartile: 71.0\n"
     ]
    },
    {
     "data": {
      "image/png": "[encoded data removed]",
      "text/plain": [
       "<Figure size 432x288 with 1 Axes>"
      ]
     },
     "metadata": {
      "needs_background": "light"
     },
     "output_type": "display_data"
    }
   ],
   "source": [
    "ordered_df.hist(['Overall'])\n",
    "overall = filtered_df.select('Overall').collect()\n",
    "print(\"Min:\", np.min(overall))\n",
    "print(\"Max:\", np.max(overall))\n",
    "print(\"Lower quartile:\", np.percentile(overall, 25))\n",
    "print(\"Median:\", np.percentile(overall, 50))\n",
    "print(\"Upper quartile:\", np.percentile(overall, 75))\n",
    "mpl.show()"
   ]
  },
  {
   "cell_type": "code",
   "execution_count": 9,
   "metadata": {},
   "outputs": [
    {
     "data": {
      "image/png": "[encoded data removed]",
      "text/plain": [
       "<Figure size 432x288 with 1 Axes>"
      ]
     },
     "metadata": {
      "needs_background": "light"
     },
     "output_type": "display_data"
    }
   ],
   "source": [
    "ax = sns.boxplot(x=ordered_df['Overall'])\n",
    "mpl.show()"
   ]
  },
  {
   "cell_type": "code",
   "execution_count": 10,
   "metadata": {},
   "outputs": [],
   "source": [
    "df = spark.createDataFrame(ordered_df).orderBy('Potential', ascending=False).limit(50)"
   ]
  },
  {
   "cell_type": "code",
   "execution_count": 11,
   "metadata": {},
   "outputs": [
    {
     "name": "stdout",
     "output_type": "stream",
     "text": [
      "+------+-----------------+---+-----------+-------+---------+-------------------+-------+------------------------+--------------+\n",
      "|    ID|             Name|Age|Nationality|Overall|Potential|               Club|  Value|International Reputation|Release Clause|\n",
      "+------+-----------------+---+-----------+-------+---------+-------------------+-------+------------------------+--------------+\n",
      "|231747|        K. Mbappé| 19|     France|     88|       95|Paris Saint-Germain|   €81M|                     3.0|       €166.1M|\n",
      "|158023|         L. Messi| 31|  Argentina|     94|       94|       FC Barcelona|€110.5M|                     5.0|       €226.5M|\n",
      "| 20801|Cristiano Ronaldo| 33|   Portugal|     94|       94|           Juventus|   €77M|                     5.0|       €127.1M|\n",
      "|211110|        P. Dybala| 24|  Argentina|     89|       94|           Juventus|   €89M|                     3.0|       €153.5M|\n",
      "|190871|        Neymar Jr| 26|     Brazil|     92|       93|Paris Saint-Germain|€118.5M|                     5.0|       €228.1M|\n",
      "|193080|           De Gea| 27|      Spain|     91|       93|  Manchester United|   €72M|                     4.0|       €138.6M|\n",
      "|200389|         J. Oblak| 25|   Slovenia|     90|       93|    Atlético Madrid|   €68M|                     3.0|       €144.5M|\n",
      "|230621|    G. Donnarumma| 19|      Italy|     82|       93|              Milan|   €29M|                     3.0|        €55.1M|\n",
      "|222492|          L. Sané| 22|    Germany|     86|       92|    Manchester City|   €61M|                     2.0|       €125.1M|\n",
      "|192985|     K. De Bruyne| 27|    Belgium|     91|       92|    Manchester City|  €102M|                     4.0|       €196.4M|\n",
      "|192448|    M. ter Stegen| 26|    Germany|     89|       92|       FC Barcelona|   €58M|                     3.0|       €123.3M|\n",
      "|205600|        S. Umtiti| 24|     France|     87|       92|       FC Barcelona|   €57M|                     3.0|       €121.1M|\n",
      "|232363|      M. Škriniar| 23|   Slovakia|     85|       92|              Inter| €46.5M|                     1.0|        €88.4M|\n",
      "|220834|    Marco Asensio| 22|      Spain|     85|       92|        Real Madrid|   €54M|                     3.0|       €121.5M|\n",
      "|231443|       O. Dembélé| 21|     France|     83|       92|       FC Barcelona|   €40M|                     3.0|          €90M|\n",
      "|230666|    Gabriel Jesus| 21|     Brazil|     83|       92|    Manchester City|   €41M|                     2.0|        €84.1M|\n",
      "|238794|  Vinícius Júnior| 17|     Brazil|     77|       92|        Real Madrid| €17.5M|                     1.0|        €46.8M|\n",
      "|183277|        E. Hazard| 27|    Belgium|     91|       91|            Chelsea|   €93M|                     4.0|       €172.1M|\n",
      "|202126|          H. Kane| 24|    England|     89|       91|  Tottenham Hotspur| €83.5M|                     3.0|       €160.7M|\n",
      "|177003|        L. Modrić| 32|    Croatia|     91|       91|        Real Madrid|   €67M|                     4.0|       €137.4M|\n",
      "+------+-----------------+---+-----------+-------+---------+-------------------+-------+------------------------+--------------+\n",
      "only showing top 20 rows\n",
      "\n"
     ]
    }
   ],
   "source": [
    "df.show()"
   ]
  },
  {
   "cell_type": "code",
   "execution_count": 12,
   "metadata": {},
   "outputs": [
    {
     "name": "stdout",
     "output_type": "stream",
     "text": [
      "root\n",
      " |-- ID: long (nullable = true)\n",
      " |-- Name: string (nullable = true)\n",
      " |-- Age: long (nullable = true)\n",
      " |-- Nationality: string (nullable = true)\n",
      " |-- Overall: long (nullable = true)\n",
      " |-- Potential: long (nullable = true)\n",
      " |-- Club: string (nullable = true)\n",
      " |-- Value: string (nullable = true)\n",
      " |-- International Reputation: double (nullable = true)\n",
      " |-- Release Clause: string (nullable = true)\n",
      "\n"
     ]
    }
   ],
   "source": [
    "df.printSchema()"
   ]
  },
  {
   "cell_type": "code",
   "execution_count": 13,
   "metadata": {},
   "outputs": [],
   "source": [
    "ml_asm = VectorAssembler(\n",
    "    inputCols=['Age', 'Overall', 'Potential', 'International Reputation'],\n",
    "    outputCol='Features'\n",
    ")\n",
    "ml_vasm = ml_asm.transform(df)"
   ]
  },
  {
   "cell_type": "code",
   "execution_count": 14,
   "metadata": {},
   "outputs": [
    {
     "name": "stdout",
     "output_type": "stream",
     "text": [
      "+------+-----------------+--------------------+\n",
      "|    ID|             Name|            Features|\n",
      "+------+-----------------+--------------------+\n",
      "|231747|        K. Mbappé|[19.0,88.0,95.0,3.0]|\n",
      "|158023|         L. Messi|[31.0,94.0,94.0,5.0]|\n",
      "| 20801|Cristiano Ronaldo|[33.0,94.0,94.0,5.0]|\n",
      "|211110|        P. Dybala|[24.0,89.0,94.0,3.0]|\n",
      "|190871|        Neymar Jr|[26.0,92.0,93.0,5.0]|\n",
      "+------+-----------------+--------------------+\n",
      "only showing top 5 rows\n",
      "\n"
     ]
    }
   ],
   "source": [
    "ml_vasm.select(['ID', 'Name', 'Features']).show(5)"
   ]
  },
  {
   "cell_type": "code",
   "execution_count": 15,
   "metadata": {},
   "outputs": [],
   "source": [
    "df_parts = ml_vasm.randomSplit([0.7, 0.3])\n",
    "training_df = df_parts[0]\n",
    "testing_df = df_parts[1]"
   ]
  },
  {
   "cell_type": "code",
   "execution_count": 16,
   "metadata": {},
   "outputs": [
    {
     "name": "stdout",
     "output_type": "stream",
     "text": [
      "+-------+---------------+------------------+------------------+------------------+------------------------+\n",
      "|summary|           Name|               Age|           Overall|         Potential|International Reputation|\n",
      "+-------+---------------+------------------+------------------+------------------+------------------------+\n",
      "|  count|             34|                34|                34|                34|                      34|\n",
      "|   mean|           null|25.176470588235293| 87.02941176470588|  91.3529411764706|                     3.0|\n",
      "| stddev|           null| 4.011125348292525|3.7212354914581476|1.4746823580151063|      1.0730867399773196|\n",
      "|    min|   A. Griezmann|                17|                77|                90|                     1.0|\n",
      "|    max|Vinícius Júnior|                33|                94|                95|                     5.0|\n",
      "+-------+---------------+------------------+------------------+------------------+------------------------+\n",
      "\n"
     ]
    }
   ],
   "source": [
    "training_df.describe(['Name', 'Age', 'Overall', 'Potential', 'International Reputation']).show(20)"
   ]
  },
  {
   "cell_type": "code",
   "execution_count": 17,
   "metadata": {},
   "outputs": [
    {
     "name": "stdout",
     "output_type": "stream",
     "text": [
      "+-------+-----------------+-----------------+-----------------+------------------------+\n",
      "|summary|              Age|          Overall|        Potential|International Reputation|\n",
      "+-------+-----------------+-----------------+-----------------+------------------------+\n",
      "|  count|               16|               16|               16|                      16|\n",
      "|   mean|          24.1875|          86.5625|          90.8125|                     3.0|\n",
      "| stddev|3.727711541057506|4.098271993576481|0.910585891976516|      1.0954451150103321|\n",
      "|    min|               18|               78|               90|                     1.0|\n",
      "|    max|               32|               92|               93|                     5.0|\n",
      "+-------+-----------------+-----------------+-----------------+------------------------+\n",
      "\n"
     ]
    }
   ],
   "source": [
    "testing_df.describe(['Age', 'Overall', 'Potential', 'International Reputation']).show(20)"
   ]
  },
  {
   "cell_type": "code",
   "execution_count": 18,
   "metadata": {},
   "outputs": [],
   "source": [
    "ml_lr = LinearRegression(\n",
    "    featuresCol=\"Features\",\n",
    "    labelCol=\"Potential\",\n",
    "    predictionCol=\"Predected Pontential\"\n",
    ")\n",
    "\n",
    "ml_lr_model = ml_lr.fit(training_df)"
   ]
  },
  {
   "cell_type": "code",
   "execution_count": 19,
   "metadata": {},
   "outputs": [],
   "source": [
    "ml_lr_predicts = ml_lr_model.transform(testing_df)"
   ]
  },
  {
   "cell_type": "code",
   "execution_count": 20,
   "metadata": {},
   "outputs": [
    {
     "name": "stdout",
     "output_type": "stream",
     "text": [
      "+--------------+---+-------+---------+------------------------+--------------------+\n",
      "|          Name|Age|Overall|Potential|International Reputation|Predected Pontential|\n",
      "+--------------+---+-------+---------+------------------------+--------------------+\n",
      "|     L. Modrić| 32|     91|       91|                     4.0|    90.9999999999995|\n",
      "|     E. Hazard| 27|     91|       91|                     4.0|   91.00000000000152|\n",
      "|R. Lewandowski| 29|     90|       90|                     4.0|   90.00000000000205|\n",
      "|     Neymar Jr| 26|     92|       93|                     5.0|   93.00000000000034|\n",
      "|   T. Courtois| 26|     89|       90|                     4.0|   90.00000000000313|\n",
      "|      P. Pogba| 25|     87|       91|                     4.0|   91.00000000000185|\n",
      "|     M. Icardi| 25|     87|       90|                     3.0|   90.00000000000207|\n",
      "|       H. Kane| 24|     89|       91|                     3.0|   91.00000000000126|\n",
      "|          Saúl| 23|     85|       90|                     3.0|   90.00000000000263|\n",
      "|      N. Kanté| 27|     89|       90|                     3.0|    90.0000000000015|\n",
      "|Bernardo Silva| 23|     86|       91|                     2.0|   91.00000000000009|\n",
      "|       L. Sané| 22|     86|       92|                     2.0|   91.99999999999902|\n",
      "| Gabriel Jesus| 21|     83|       92|                     2.0|   91.99999999999906|\n",
      "|     A. Lafont| 19|     78|       90|                     2.0|   90.00000000000217|\n",
      "|      H. Aouar| 20|     80|       90|                     1.0|    90.0000000000008|\n",
      "|    M. de Ligt| 18|     82|       91|                     2.0|   91.00000000000162|\n",
      "+--------------+---+-------+---------+------------------------+--------------------+\n",
      "\n"
     ]
    }
   ],
   "source": [
    "ml_lr_predicts.select(['Name', 'Age', 'Overall', 'Potential', 'International Reputation', 'Predected Pontential']).show(50)"
   ]
  },
  {
   "cell_type": "code",
   "execution_count": null,
   "metadata": {},
   "outputs": [],
   "source": []
  }
 ],
 "metadata": {
  "kernelspec": {
   "display_name": "Python 3",
   "language": "python",
   "name": "python3"
  },
  "language_info": {
   "codemirror_mode": {
    "name": "ipython",
    "version": 3
   },
   "file_extension": ".py",
   "mimetype": "text/x-python",
   "name": "python",
   "nbconvert_exporter": "python",
   "pygments_lexer": "ipython3",
   "version": "3.8.8"
  }
 },
 "nbformat": 4,
 "nbformat_minor": 1
}
