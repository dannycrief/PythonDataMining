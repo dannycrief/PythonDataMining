{
 "cells": [
  {
   "cell_type": "code",
   "execution_count": 245,
   "id": "considered-anxiety",
   "metadata": {},
   "outputs": [],
   "source": [
    "import numpy as np\n",
    "import pyspark as ps\n",
    "import pandas as pd\n",
    "import seaborn as sns\n",
    "from matplotlib import pyplot\n",
    "\n",
    "import matplotlib.pyplot as plt\n",
    "%matplotlib inline"
   ]
  },
  {
   "cell_type": "code",
   "execution_count": 246,
   "id": "black-chess",
   "metadata": {},
   "outputs": [],
   "source": [
    "spark = ps.sql.SparkSession.builder.master('local[4]')\\\n",
    "    .appName('spark-homework4').getOrCreate()\n",
    "\n",
    "sc = spark.sparkContext"
   ]
  },
  {
   "cell_type": "code",
   "execution_count": 247,
   "outputs": [],
   "source": [
    "rdd = sc.textFile('fc-barcelona.csv')\\\n",
    "    .map(lambda x: x.split(','))\\\n",
    "    .filter(lambda x: not x[0].startswith('Player'))\\\n",
    "    .map(lambda x: (x[0], int(x[5]) if x[5] else 0))"
   ],
   "metadata": {
    "collapsed": false,
    "pycharm": {
     "name": "#%%\n"
    }
   }
  },
  {
   "cell_type": "code",
   "execution_count": 248,
   "outputs": [
    {
     "data": {
      "text/plain": "[('Sergio Busquets', 0),\n ('Gerard Piqué', 0),\n ('Marc-André ter Stegen', 0),\n ('Samuel Umtiti', 0),\n ('Neto', 0),\n ('Miralem Pjanic', 0),\n ('Carles Aleñá', 0)]"
     },
     "execution_count": 248,
     "metadata": {},
     "output_type": "execute_result"
    }
   ],
   "source": [
    "# Getting players with minimum score\n",
    "minimum_vales_rdd = rdd.sortBy(lambda score: score[1], ascending=True)\n",
    "minimum_vales = minimum_vales_rdd.take(1)[0][1]\n",
    "rdd2 = rdd.filter(lambda x: x[1] == minimum_vales)\n",
    "rdd2.collect()"
   ],
   "metadata": {
    "collapsed": false,
    "pycharm": {
     "name": "#%%\n"
    }
   }
  },
  {
   "cell_type": "code",
   "execution_count": 249,
   "outputs": [
    {
     "data": {
      "text/plain": "[('Lionel Messi', 26)]"
     },
     "execution_count": 249,
     "metadata": {},
     "output_type": "execute_result"
    }
   ],
   "source": [
    "# Getting players with maximum score\n",
    "maximum_vales_rdd = rdd.sortBy(lambda score: score[1], ascending=False)\n",
    "maximum_vales = maximum_vales_rdd.take(1)[0][1]\n",
    "rdd3 = rdd.filter(lambda x: x[1] == maximum_vales)\n",
    "rdd3.collect()"
   ],
   "metadata": {
    "collapsed": false,
    "pycharm": {
     "name": "#%%\n"
    }
   }
  },
  {
   "cell_type": "code",
   "execution_count": 250,
   "outputs": [],
   "source": [
    "footballer_goals = rdd.map(lambda x: x[1]).collect()"
   ],
   "metadata": {
    "collapsed": false,
    "pycharm": {
     "name": "#%%\n"
    }
   }
  },
  {
   "cell_type": "code",
   "execution_count": 251,
   "outputs": [
    {
     "data": {
      "text/plain": "2.0"
     },
     "execution_count": 251,
     "metadata": {},
     "output_type": "execute_result"
    }
   ],
   "source": [
    "np.percentile(footballer_goals, 50)  # Median"
   ],
   "metadata": {
    "collapsed": false,
    "pycharm": {
     "name": "#%%\n"
    }
   }
  },
  {
   "cell_type": "code",
   "execution_count": 252,
   "outputs": [
    {
     "data": {
      "text/plain": "0.0"
     },
     "execution_count": 252,
     "metadata": {},
     "output_type": "execute_result"
    }
   ],
   "source": [
    "np.percentile(footballer_goals, 25)  # Lower quartile"
   ],
   "metadata": {
    "collapsed": false,
    "pycharm": {
     "name": "#%%\n"
    }
   }
  },
  {
   "cell_type": "code",
   "execution_count": 253,
   "outputs": [
    {
     "data": {
      "text/plain": "3.0"
     },
     "execution_count": 253,
     "metadata": {},
     "output_type": "execute_result"
    }
   ],
   "source": [
    "np.percentile(footballer_goals, 75)  # Upper quartile"
   ],
   "metadata": {
    "collapsed": false,
    "pycharm": {
     "name": "#%%\n"
    }
   }
  },
  {
   "cell_type": "code",
   "execution_count": 254,
   "outputs": [
    {
     "data": {
      "text/plain": "               players  goals\n0         Lionel Messi     26\n1            Ansu Fati      4\n2    Antoine Griezmann     11\n3      Frenkie de Jong      3\n4           Jordi Alba      3\n5      Ousmane Dembélé      5\n6        Sergi Roberto      1\n8       Óscar Mingueza      2\n9    Philippe Coutinho      2\n10       Ronald Araujo      2\n11               Pedri      2\n13        Sergiño Dest      2\n14        Ilaix Moriba      1\n15     Clément Lenglet      1\n17        Junior Firpo      1\n21             Trincão      3\n22  Martin Braithwaite      2\n23          Riqui Puig      1",
      "text/html": "<div>\n<style scoped>\n    .dataframe tbody tr th:only-of-type {\n        vertical-align: middle;\n    }\n\n    .dataframe tbody tr th {\n        vertical-align: top;\n    }\n\n    .dataframe thead th {\n        text-align: right;\n    }\n</style>\n<table border=\"1\" class=\"dataframe\">\n  <thead>\n    <tr style=\"text-align: right;\">\n      <th></th>\n      <th>players</th>\n      <th>goals</th>\n    </tr>\n  </thead>\n  <tbody>\n    <tr>\n      <th>0</th>\n      <td>Lionel Messi</td>\n      <td>26</td>\n    </tr>\n    <tr>\n      <th>1</th>\n      <td>Ansu Fati</td>\n      <td>4</td>\n    </tr>\n    <tr>\n      <th>2</th>\n      <td>Antoine Griezmann</td>\n      <td>11</td>\n    </tr>\n    <tr>\n      <th>3</th>\n      <td>Frenkie de Jong</td>\n      <td>3</td>\n    </tr>\n    <tr>\n      <th>4</th>\n      <td>Jordi Alba</td>\n      <td>3</td>\n    </tr>\n    <tr>\n      <th>5</th>\n      <td>Ousmane Dembélé</td>\n      <td>5</td>\n    </tr>\n    <tr>\n      <th>6</th>\n      <td>Sergi Roberto</td>\n      <td>1</td>\n    </tr>\n    <tr>\n      <th>8</th>\n      <td>Óscar Mingueza</td>\n      <td>2</td>\n    </tr>\n    <tr>\n      <th>9</th>\n      <td>Philippe Coutinho</td>\n      <td>2</td>\n    </tr>\n    <tr>\n      <th>10</th>\n      <td>Ronald Araujo</td>\n      <td>2</td>\n    </tr>\n    <tr>\n      <th>11</th>\n      <td>Pedri</td>\n      <td>2</td>\n    </tr>\n    <tr>\n      <th>13</th>\n      <td>Sergiño Dest</td>\n      <td>2</td>\n    </tr>\n    <tr>\n      <th>14</th>\n      <td>Ilaix Moriba</td>\n      <td>1</td>\n    </tr>\n    <tr>\n      <th>15</th>\n      <td>Clément Lenglet</td>\n      <td>1</td>\n    </tr>\n    <tr>\n      <th>17</th>\n      <td>Junior Firpo</td>\n      <td>1</td>\n    </tr>\n    <tr>\n      <th>21</th>\n      <td>Trincão</td>\n      <td>3</td>\n    </tr>\n    <tr>\n      <th>22</th>\n      <td>Martin Braithwaite</td>\n      <td>2</td>\n    </tr>\n    <tr>\n      <th>23</th>\n      <td>Riqui Puig</td>\n      <td>1</td>\n    </tr>\n  </tbody>\n</table>\n</div>"
     },
     "execution_count": 254,
     "metadata": {},
     "output_type": "execute_result"
    }
   ],
   "source": [
    "deptColumns = [\"players\",\"goals\"]\n",
    "df = rdd.toDF(deptColumns).toPandas()\n",
    "df = df[df.goals != 0]\n",
    "df"
   ],
   "metadata": {
    "collapsed": false,
    "pycharm": {
     "name": "#%%\n"
    }
   }
  },
  {
   "cell_type": "code",
   "execution_count": 255,
   "outputs": [
    {
     "data": {
      "text/plain": "<Figure size 2016x360 with 1 Axes>",
      "image/png": "[encoded data removed]"
     },
     "metadata": {
      "needs_background": "light"
     },
     "output_type": "display_data"
    }
   ],
   "source": [
    "plt.figure(figsize=(28,5))\n",
    "sns.boxplot(x=\"players\", y=\"goals\", data=df, color='red')\n",
    "plt.savefig('medals.svg')"
   ],
   "metadata": {
    "collapsed": false,
    "pycharm": {
     "name": "#%%\n"
    }
   }
  },
  {
   "cell_type": "code",
   "execution_count": 255,
   "outputs": [],
   "source": [],
   "metadata": {
    "collapsed": false,
    "pycharm": {
     "name": "#%%\n"
    }
   }
  }
 ],
 "metadata": {
  "kernelspec": {
   "display_name": "Python 3",
   "language": "python",
   "name": "python3"
  },
  "language_info": {
   "codemirror_mode": {
    "name": "ipython",
    "version": 3
   },
   "file_extension": ".py",
   "mimetype": "text/x-python",
   "name": "python",
   "nbconvert_exporter": "python",
   "pygments_lexer": "ipython3",
   "version": "3.8.8"
  }
 },
 "nbformat": 4,
 "nbformat_minor": 5
}