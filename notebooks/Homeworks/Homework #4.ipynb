{
 "cells": [
  {
   "cell_type": "code",
   "execution_count": 227,
   "id": "considered-anxiety",
   "metadata": {},
   "outputs": [],
   "source": [
    "import matplotlib.pyplot as plt\n",
    "import pandas as pd\n",
    "import numpy as np\n",
    "import pyspark as ps\n",
    "import seaborn as sns\n",
    "from pyspark.sql.functions import col\n",
    "from pyspark.sql.types import IntegerType\n",
    "\n",
    "%matplotlib inline"
   ]
  },
  {
   "cell_type": "code",
   "execution_count": 228,
   "id": "black-chess",
   "metadata": {},
   "outputs": [],
   "source": [
    "spark = ps.sql.SparkSession.builder.master('local[4]')\\\n",
    "    .appName('spark-homework4').getOrCreate()\n",
    "\n",
    "sc = spark.sparkContext"
   ]
  },
  {
   "cell_type": "code",
   "execution_count": 241,
   "outputs": [
    {
     "data": {
      "text/plain": "[('Kareem Abdul-Jabbar', 251),\n ('Shareef A-Rahim', 9),\n ('Danny Ainge', 12),\n ('Ray Allen', 133),\n ('Nate Archibald', 74),\n ('Paul Arizin', 137),\n ('Ron Artest', 7),\n ('Charles Barkley', 113),\n ('Dick Barnett', 15),\n ('Leo Barnhorst', 16),\n ('Dana Barros', 5),\n ('Rick Barry', 172),\n ('Ralph Beard', 6),\n ('John Beasley', 39),\n ('Zelmo Beatty', 49),\n ('Byron Beck', 28),\n ('Walt Bellamy', 48),\n ('Dave Bing', 41),\n ('Mookie Blaylock', 5),\n ('Carlos Boozer', 14),\n ('Carl Braun', 30),\n ('Bill Bridges', 28),\n ('Fred Brown', 14),\n ('Larry Brown', 25),\n ('Roger Brown', 47),\n ('Caron Butler', 2),\n ('Mack Calvin', 56),\n ('Joe Carroll', 4),\n ('Bill Cartwright', 8),\n ('Cedric Ceballos', 0),\n ('Maurice Cheeks', 16),\n ('Maurcie Cheeks', 0),\n ('Phil Chenier', 22),\n ('Doug Collins', 34),\n ('Bob Cousy', 147),\n ('Dave Cowens', 76),\n ('Terry Cummings', 27),\n ('Billy Cunningham', 66),\n ('Louie Dampier', 88),\n ('Bob Dandridge', 26),\n ('Adrian Dantley', 63),\n ('Bob Davies', 48),\n ('Antonio Davis', 8),\n ('Lee Davis', 3),\n ('Warren Davis', 6),\n ('Walter Davis', 59),\n ('Terry Dischinger', 19),\n ('Vlade Divac', 8),\n ('John Drew', 6),\n ('Tim Duncan', 134),\n ('Kevin Durant', 15),\n ('Dale Ellis', 27),\n ('Wayne Embry', 32),\n ('Julius Erving', 321),\n ('Ray Felix', 13),\n ('Michael Finley', 23),\n ('James Foster', 0),\n ('Steve Francis', 36),\n ('Billy Gabor', 0),\n ('Harry Gallatin', 57),\n ('Dick Garmaker', 31),\n ('Kevin Garnett', 154),\n ('Chris Gatling', 2),\n ('Gus Gerard', 12),\n ('George Gervin', 177),\n ('Manu Ginobili', 8),\n ('Tom Gola', 29),\n ('Johnny Green', 4),\n ('Mike Green', 6),\n ('Hal Greer', 130),\n ('Alex Groza', 17),\n ('Richie Guerin', 63),\n ('Anfernee Hardaway', 55),\n ('Tim Hardaway', 53),\n ('John Havlicek', 179),\n ('Hersey Hawkins', 6),\n ('Spencer Haywood', 71),\n ('Tom Heinsohm', 4),\n ('Lionel Hollins', 10),\n ('Jeff Hornacek', 11),\n ('Dwight Howard', 66),\n ('Lou Hudson', 66),\n ('Ron Hundley', 10),\n ('Zydrunas Ilgauskas', 12),\n ('Allen Iverson', 130),\n ('Warren Jabali', 30),\n ('Mark Jackson', 9),\n ('Antawn Jamison', 7),\n ('Eddie Johnson', 38),\n ('Gus Johnson', 67),\n ('Joe Johnson', 25),\n ('Kevin Johnson', 13),\n ('Magic Johnson', 176),\n ('Stew Johnson', 18),\n ('Eddie Jones', 35),\n ('Jimmy Jones', 62),\n ('Larry Jones', 64),\n ('Rich Jones', 4),\n ('Sam Jones', 41),\n ('Bob Kauffman', 5),\n ('Shawn Kemp', 54),\n ('Julius Keye', 0),\n ('Jason Kidd', 58),\n ('Bernard King', 45),\n ('Andrei Kirilenko', 2),\n ('Sam Lacey', 6),\n ('Bill Laimbeer', 28),\n ('Rudy LaRusso', 29),\n ('Clyde Lee', 6),\n ('David Lee', 4),\n ('Lafayette Lever', 33),\n ('Freddie Lewis', 51),\n ('Reggie Lewis', 7),\n ('Goose Ligon', 3),\n ('Jerry Lucas', 89),\n ('Ed Macauley', 83),\n ('Randolph Mahaffey', 4),\n ('Jeff Malone', 12),\n ('Karl Malone', 145),\n ('Danny Manning', 18),\n ('Jamal Mashburn', 10),\n ('Anthony Mason', 0),\n ('Ted McClain', 12),\n ('Xavier McDaniel', 2),\n ('Antonio McDyess', 8),\n ('Kevin McHale', 61),\n ('Bill Melchionni', 21),\n ('Dewitt Menyard', 4),\n ('Brad Miller', 13),\n ('Yao Ming', 42),\n ('Mike Mitchell', 14),\n ('Steve Mix', 4),\n ('Gene Moore', 4),\n ('Alonzo Mourning', 40),\n ('Jeff Mullins', 22),\n ('Calvin Murphy', 6),\n ('Dikembe Mutombo', 50),\n ('Larry Nance', 33),\n ('Steve Nash', 26),\n ('Calvin Natt', 3),\n ('Norm Nixon', 25),\n ('Chuck Noble', 0),\n ('Dirk Nowitzki', 95),\n (\"Jermaine O'Neal\", 56),\n ('Charles Oakley', 2),\n ('Mehmet Okur', 4),\n ('Robert Parish', 86),\n ('Chris Paul', 30),\n ('Billy Paultz', 17),\n ('Jim Paxson', 21),\n ('Andy Phillip', 34),\n ('Ricky Pierce', 9),\n ('Scottie Pippen', 85),\n ('Terry Porter', 11),\n ('Cincinnatus Powell', 23),\n ('Mark Price', 54),\n ('Zach Randolph', 8),\n ('Theo Ratliff', 0),\n ('Willis Reed', 88),\n ('Richie Regan', 4),\n ('Michael Ray Richardson', 22),\n ('Micheal Ray Richardson', 10),\n ('Mitch Richmond', 57),\n ('Glenn Rivers', 9),\n ('Red Robbins', 27),\n ('Alvin Robertson', 18),\n ('Truck Robinson', 7),\n ('Leonard Robinson', 6),\n ('Red Rocha', 20),\n ('Dennis Rodman', 8),\n ('Rajon Rondo', 4),\n ('Derrick Rose', 8),\n ('Brandon Roy', 32),\n ('Cazzie Russell', 10),\n ('Dolph Schayes', 138),\n ('Frank Selvy', 7),\n ('Paul Silas', 8),\n ('Walter Simon', 18),\n ('Adrian Smith', 24),\n ('Randy Smith', 35),\n ('Latrell Sprewell', 44),\n ('Jerry Stackhouse', 15),\n ('John Starks', 9),\n ('John Stockton', 81),\n ('Brian Taylor', 27),\n ('Isiah Thomas', 185),\n ('David Thompson', 104),\n ('George Thompson', 30),\n ('Skip Thoren', 2),\n ('Nate Thurmond', 31),\n ('Rudy Tomjanovich', 24),\n ('Monty Towe', 2),\n ('Kelly Tripucka', 7),\n ('Wes Unseld', 31),\n ('Dick Van Arsdale', 16),\n ('Kiki Vandeweghe', 21),\n ('Nick Van Exel', 13),\n ('Norm Van Lier', 5),\n ('Chico Vaughn', 6),\n ('Chet Walker', 57),\n ('Ben Wallace', 12),\n ('Bill Walton', 15),\n ('Bob Wanzer', 46),\n ('Ben Warley', 8),\n ('Jo White', 32),\n ('Sidney Wicks', 49),\n ('Lenny Wilkens', 44),\n ('Dominique Wilkins', 106),\n ('Buck Williams', 25),\n ('Deron Williams', 14),\n ('Gus Williams', 28),\n ('Jayson Williams', 4),\n ('Willie Wise', 49),\n ('James Worthy', 74),\n ('George Yardley', 64),\n ('Max Zaslofsky', 1),\n ('Alvan Adams', 4),\n ('Michael Adams', 9),\n ('Mark Aguirre', 36),\n ('Kenny Anderson', 6),\n ('Carmelo Anthony', 65),\n ('Gilbert Arenas', 16),\n ('B.J. Armstrong', 11),\n ('Vin Baker', 35),\n ('Don Barksdale', 1),\n ('Marvin Barnes', 23),\n ('Elgin Baylor', 218),\n ('Butch Beard', 3),\n ('Arthur Becker', 11),\n ('Chauncey Billups', 51),\n ('Larry Bird', 134),\n ('Otis Birdsong', 14),\n ('Rolando Blackman', 71),\n ('John Block', 4),\n ('Ron Boone', 41),\n ('Bob Boozer', 4),\n ('Vince Boryla', 9),\n ('Chris Bosh', 56),\n ('Bill Bradley', 4),\n ('Elton Brand', 18),\n ('Terrell Brandon', 21),\n ('Frank Brian', 27),\n ('John Brisker', 23),\n ('Kobe Bryant', 207),\n ('Larry Bunce', 3),\n ('Don Buse', 9),\n ('Joe Caldwell', 53),\n ('Austin Carr', 0),\n ('Darel Carrier', 29),\n ('George Carter', 4),\n ('Vince Carter', 71),\n ('Sam Cassell', 4),\n ('Tom Chambers', 77),\n ('Wilt Chamberlain', 191),\n ('Len Chappell', 4),\n ('Archie Clark', 25),\n ('Nat Clifton', 8),\n ('Derrick Coleman', 2),\n ('Jack Coleman', 6),\n ('Glen Combs', 14),\n ('Larry Costello', 24),\n ('Mel Daniels', 132),\n ('Brad Daugherty', 34),\n ('Baron Davis', 9),\n ('Dale Davis', 4),\n ('Dave DeBusschere', 77),\n ('James Donaldson', 2),\n ('Clyde Drexler', 96),\n ('Kevin Duckworth', 11),\n ('Walter Dukes', 12),\n ('Joe Dumars', 34),\n ('Jim Eakins', 2),\n ('Mark Eaton', 0),\n ('Dike Eddleman', 9),\n ('Sean Elliot', 5),\n ('Sean Elliott', 13),\n ('Alex English', 73),\n ('Patrick Ewing', 106),\n ('Eric Floyd', 14),\n ('Larry Foust', 49),\n ('Walt Frazier', 88),\n ('Donnie Freeman', 81),\n ('Lloyd Free', 14),\n ('Joe Fulks', 25),\n ('Pau Gasol', 27),\n ('Jack George', 14),\n ('Artis Gilmore', 118),\n ('Gail Goodrich', 33),\n ('Gerald Govan', 2),\n ('Danny Granger', 2),\n ('Horace Grant', 4),\n ('A.C. Green', 0),\n ('John Green', 28),\n ('Rickey Green', 6),\n ('Tom Gugliotta', 9),\n ('Cliff Hagan', 31),\n ('Richard Hamilton', 23),\n ('Bob Harrison', 5),\n ('Devin Harris', 6),\n ('Connie Hawkins', 32),\n ('Elvin Hayes', 119),\n ('Walt Hazzard', 9),\n ('Tom Heinsohn', 47),\n ('Wayne Hightower', 6),\n ('Grant Hill', 63),\n ('Tyrone Hill', 2),\n ('Al Horford', 8),\n ('Allan Houston', 16),\n ('Josh Howard', 3),\n ('Juwan Howard', 2),\n ('Bailey Howell', 32),\n ('Rod Hundley', 14),\n ('Les Hunter', 19),\n ('Mel Hutchins', 26),\n ('Darrall Imhoff', 0),\n ('Dan Issel', 103),\n ('Lucious Jackson', 5),\n ('Mervin Jackson', 3),\n ('Tony Jackson', 4),\n ('LeBron James', 142),\n ('Dennis Johnson', 59),\n ('John Johnson', 0),\n ('Larry Johnson', 11),\n ('Marques Johnson', 34),\n ('Neil Johnson', 0),\n ('Neil Johnston', 70),\n ('Bobby Jones', 44),\n ('Caldwell Jones', 5),\n ('Steve Jones', 32),\n ('Wil Jones', 2),\n ('Michael Jordan', 262),\n ('Chris Kaman', 4),\n ('Larry Kenon', 59),\n ('John Kerr', 13),\n ('Jim King', 0),\n ('Billy Knight', 24),\n ('Don Kojis', 12),\n ('Wendell Ladner', 16),\n ('Christian Laettner', 7),\n ('Bob Lanier', 74),\n ('Mike Lewis', 7),\n ('Rashard Lewis', 10),\n ('Bob Love', 30),\n ('Clyde Lovellette', 40),\n ('Maurice Lucas', 39),\n ('Jamaal Magloire', 19),\n ('Dan Majerle', 32),\n ('Moses Malone', 134),\n ('Pete Maravich', 43),\n ('Stephon Marbury', 16),\n ('Jack Marin', 15),\n ('Shawn Marion', 50),\n ('Kenyon Martin', 17),\n ('Slater Martin', 40),\n ('Bob McAdoo', 88),\n ('Jim McDaniels', 24),\n ('George McGinnis', 85),\n ('Jon McGlocklin', 2),\n ('Tracy McGrady', 120),\n ('Dick McGuire', 39),\n ('Tom Meschery', 3),\n ('George Mikan', 78),\n ('Vern Mikkelsen', 67),\n ('Eddie Miles', 17),\n ('Reggie Miller', 40),\n ('Douglas Moe', 36),\n ('Sidney Moncrief', 58),\n ('Earl Monroe', 40),\n ('Chris Mullin', 33),\n ('Swen Nater', 41),\n ('Willie Naulls', 40),\n ('Bob Netolicky', 46),\n (\"Shaquille O'Neal\", 202),\n ('Don Ohl', 46),\n ('Hakeem Olajuwon', 117),\n ('Tony Parker', 30),\n ('Gary Payton', 85),\n ('Geoff Petrie', 8),\n ('Bob Pettit', 224),\n ('Paul Pierce', 87),\n ('Jim Pollard', 48),\n ('Jim Price', 8),\n ('Michael Redd', 13),\n ('Glen Rice', 49),\n ('Arnie Risen', 19),\n ('Oscar Robertson', 236),\n ('Clifford Robinson', 10),\n ('David Robinson', 141),\n ('Flynn Robinson', 6),\n ('Glenn Robinson', 18),\n ('Guy Rodgers', 22),\n ('Dan Roundfield', 18),\n ('Curtis Rowe', 1),\n ('Bob Rule', 5),\n ('Bill Russell', 120),\n ('Campy Russell', 4),\n ('Jeff Rutland', 6),\n ('Ralph Sampson', 49),\n ('Woody Sauldsbery', 14),\n ('Fred Schaus', 8),\n ('Detlef Schrempf', 23),\n ('Fred Scolari', 10),\n ('Charlie Scott', 31),\n ('Ken Sears', 27),\n ('Paul Seymour', 21),\n ('Lee Shaffer', 12),\n ('Bill Sharman', 102),\n ('Lonnie Shelton', 7),\n ('Gene Shue', 66),\n ('Jack Sikma', 55),\n ('James Silas', 41),\n ('Ralph Simpson', 55),\n ('Jerry Sloan', 19),\n ('Phil Smith', 20),\n ('Steve Smith', 14),\n ('Rick Smits', 10),\n ('Willie Somerset', 6),\n ('Peja Stojakovic', 21),\n ('Maurice Stokes', 39),\n ('Amare Stoudemire', 84),\n ('Don Sunderlage', 4),\n ('Wally Szczerbiak', 10),\n ('Levern Tart', 16),\n ('Claude Terry', 14),\n ('Reggie Theus', 8),\n ('David Thomspon', 10),\n ('Otis Thorpe', 2),\n ('Andrew Toney', 21),\n ('Dave Twardzik', 14),\n ('Jack Twyman', 89),\n ('Tom Van Arsdale', 13),\n ('Bob Verga', 14),\n ('Dwyane Wade', 86),\n ('Dwayne Wade', 18),\n ('Antoine Walker', 18),\n ('Jimmy Walker', 11),\n ('Gerald Wallace', 2),\n ('Rasheed Wallace', 16),\n ('Paul Walther', 2),\n ('Kermit Washington', 4),\n ('Trooper Washington', 6),\n ('Chris Webber', 30),\n ('Scott Wedman', 8),\n ('David West', 12),\n ('Jerry West', 160),\n ('Paul Westphal', 97),\n ('Jo Jo White', 22),\n ('Jo Jo', 10),\n ('Jamaal Wilkes', 33),\n ('Len Wilkens', 41),\n ('Charles Williams', 4),\n ('Chuck Williams', 12),\n ('Kevin Willis', 8),\n ('Mo Williams', 12),\n ('Brian Winters', 10)]"
     },
     "execution_count": 241,
     "metadata": {},
     "output_type": "execute_result"
    }
   ],
   "source": [
    "sc.textFile('../../data/basketball_player_allstar.csv') \\\n",
    "    .map(lambda x: x.replace('\"', '').split(',')) \\\n",
    "    .filter(lambda x: not x[0].startswith('player_id')) \\\n",
    "    .map(lambda x: (x[2] + \" \" + x[1], int(x[8]) if x[8] else 0)) \\\n",
    "    .reduceByKey(lambda amount1, amount2: amount1 + amount2) \\\n",
    "    .collect()"
   ],
   "metadata": {
    "collapsed": false,
    "pycharm": {
     "name": "#%%\n"
    }
   }
  },
  {
   "cell_type": "code",
   "execution_count": null,
   "outputs": [],
   "source": [],
   "metadata": {
    "collapsed": false,
    "pycharm": {
     "name": "#%%\n"
    }
   }
  }
 ],
 "metadata": {
  "kernelspec": {
   "display_name": "Python 3",
   "language": "python",
   "name": "python3"
  },
  "language_info": {
   "codemirror_mode": {
    "name": "ipython",
    "version": 3
   },
   "file_extension": ".py",
   "mimetype": "text/x-python",
   "name": "python",
   "nbconvert_exporter": "python",
   "pygments_lexer": "ipython3",
   "version": "3.8.8"
  }
 },
 "nbformat": 4,
 "nbformat_minor": 5
}