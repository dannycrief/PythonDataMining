{
 "cells": [
  {
   "cell_type": "code",
   "execution_count": 55,
   "id": "cutting-taste",
   "metadata": {},
   "outputs": [],
   "source": [
    "import random\n",
    "import pyspark as ps\n",
    "import matplotlib.pyplot as plt\n",
    "\n",
    "%matplotlib inline"
   ]
  },
  {
   "cell_type": "code",
   "execution_count": 56,
   "id": "settled-landscape",
   "metadata": {},
   "outputs": [],
   "source": [
    "spark = ps.sql.SparkSession.builder\\\n",
    "    .master('local[4]')\\\n",
    "    .appName('Homework 3')\\\n",
    "    .getOrCreate()\n",
    "\n",
    "sc = spark.sparkContext"
   ]
  },
  {
   "cell_type": "code",
   "execution_count": 57,
   "id": "expected-klein",
   "metadata": {},
   "outputs": [],
   "source": [
    "n = 100\n",
    "rdd = (sc.parallelize(range(n))\n",
    "       .map(lambda _: random.randint(1, 6) + random.randint(1, 6)))"
   ]
  },
  {
   "cell_type": "code",
   "execution_count": 58,
   "id": "economic-august",
   "metadata": {},
   "outputs": [],
   "source": [
    "rdd_collected = rdd.collect()"
   ]
  },
  {
   "cell_type": "code",
   "execution_count": 59,
   "id": "aggregate-dominant",
   "metadata": {},
   "outputs": [
    {
     "data": {
      "text/plain": "<Figure size 432x288 with 1 Axes>",
      "image/png": "[encoded data removed]"
     },
     "metadata": {
      "needs_background": "light"
     },
     "output_type": "display_data"
    }
   ],
   "source": [
    "plt.hist(rdd_collected, bins='auto', color='#0504aa',\n",
    "                            alpha=0.7, rwidth=0.85)\n",
    "plt.grid(axis='y', alpha=.85)"
   ]
  }
 ],
 "metadata": {
  "kernelspec": {
   "display_name": "Python 3",
   "language": "python",
   "name": "python3"
  },
  "language_info": {
   "codemirror_mode": {
    "name": "ipython",
    "version": 3
   },
   "file_extension": ".py",
   "mimetype": "text/x-python",
   "name": "python",
   "nbconvert_exporter": "python",
   "pygments_lexer": "ipython3",
   "version": "3.8.8"
  }
 },
 "nbformat": 4,
 "nbformat_minor": 5
}