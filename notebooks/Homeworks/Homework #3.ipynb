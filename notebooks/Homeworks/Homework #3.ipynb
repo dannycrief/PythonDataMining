{
 "cells": [
  {
   "cell_type": "code",
   "execution_count": 1,
   "id": "cutting-taste",
   "metadata": {},
   "outputs": [],
   "source": [
    "import random\n",
    "import pyspark as ps\n",
    "import matplotlib.pyplot as plt\n",
    "\n",
    "% matplotlib inline"
   ]
  },
  {
   "cell_type": "code",
   "execution_count": 2,
   "id": "settled-landscape",
   "metadata": {},
   "outputs": [],
   "source": [
    "spark = ps.sql.SparkSession.builder\n",
    "    .master('local[4]')\n",
    "    .appName('Homework 3')\n",
    "    .getOrCreate()\n",
    "\n",
    "sc = spark.sparkContext"
   ]
  },
  {
   "cell_type": "code",
   "execution_count": 3,
   "id": "expected-klein",
   "metadata": {},
   "outputs": [],
   "source": [
    "n = 100\n",
    "rdd = (sc.parallelize(range(n))\n",
    "       .map(lambda _: random.randint(1, 6) + random.randint(1, 6)))"
   ]
  },
  {
   "cell_type": "code",
   "execution_count": 4,
   "id": "economic-august",
   "metadata": {},
   "outputs": [
    {
     "data": {
      "text/plain": "[5,\n 10,\n 6,\n 10,\n 5,\n 9,\n 7,\n 7,\n 4,\n 10,\n 9,\n 7,\n 6,\n 10,\n 6,\n 8,\n 9,\n 8,\n 9,\n 9,\n 9,\n 7,\n 3,\n 6,\n 7,\n 10,\n 7,\n 6,\n 10,\n 9,\n 6,\n 8,\n 5,\n 6,\n 10,\n 8,\n 3,\n 12,\n 11,\n 4,\n 6,\n 6,\n 4,\n 12,\n 11,\n 3,\n 7,\n 7,\n 8,\n 4,\n 3,\n 9,\n 7,\n 8,\n 8,\n 7,\n 3,\n 5,\n 6,\n 5,\n 8,\n 10,\n 9,\n 7,\n 10,\n 9,\n 5,\n 2,\n 8,\n 5,\n 4,\n 11,\n 8,\n 9,\n 7,\n 11,\n 8,\n 3,\n 3,\n 4,\n 8,\n 7,\n 10,\n 7,\n 3,\n 7,\n 8,\n 7,\n 7,\n 2,\n 6,\n 6,\n 3,\n 7,\n 4,\n 5,\n 6,\n 4,\n 10,\n 7]"
     },
     "execution_count": 4,
     "metadata": {},
     "output_type": "execute_result"
    }
   ],
   "source": [
    "rdd.collect()"
   ]
  },
  {
   "cell_type": "code",
   "execution_count": 5,
   "id": "aggregate-dominant",
   "metadata": {},
   "outputs": [
    {
     "data": {
      "image/png": "[encoded data removed]",
      "text/plain": [
       "<Figure size 432x288 with 1 Axes>"
      ]
     },
     "metadata": {
      "needs_background": "light"
     },
     "output_type": "display_data"
    }
   ],
   "source": [
    "rdd_collected = rdd.collect()\n",
    "plt.hist(rdd_collected, bins='auto', color='#0504aa',\n",
    "         alpha=0.7, rwidth=0.85)\n",
    "plt.grid(axis='y', alpha=.85)"
   ]
  }
 ],
 "metadata": {
  "kernelspec": {
   "display_name": "Python 3",
   "language": "python",
   "name": "python3"
  },
  "language_info": {
   "codemirror_mode": {
    "name": "ipython",
    "version": 3
   },
   "file_extension": ".py",
   "mimetype": "text/x-python",
   "name": "python",
   "nbconvert_exporter": "python",
   "pygments_lexer": "ipython3",
   "version": "3.8.8"
  }
 },
 "nbformat": 4,
 "nbformat_minor": 5
}